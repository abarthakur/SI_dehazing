{
 "cells": [
  {
   "cell_type": "code",
   "execution_count": null,
   "metadata": {
    "ExecuteTime": {
     "end_time": "2020-04-29T05:24:00.849705Z",
     "start_time": "2020-04-29T05:23:59.891762Z"
    }
   },
   "outputs": [],
   "source": [
    "from training_script import training_loop\n",
    "import h5py\n",
    "from mymodels import CoarseNet\n",
    "import os\n",
    "import torch \n",
    "import skimage.io as skio\n",
    "import numpy as np\n",
    "%matplotlib inline\n",
    "import matplotlib.pyplot as plt"
   ]
  },
  {
   "cell_type": "code",
   "execution_count": null,
   "metadata": {
    "ExecuteTime": {
     "end_time": "2020-04-29T05:24:00.857280Z",
     "start_time": "2020-04-29T05:24:00.851360Z"
    }
   },
   "outputs": [],
   "source": [
    "def get_print_images_callback(fixed_idx,num_random):\n",
    "    def print_images_callback(model,dataset):\n",
    "        print(\"Performance on random pics\")\n",
    "        print(\"##\"*50)\n",
    "        random_pic=fixed_idx\n",
    "        num_samples=dataset[\"hazy_image\"].shape[0]\n",
    "        for j in range(0,num_random+1):\n",
    "            t_batch=dataset[\"trans_map\"][random_pic,:,:]\n",
    "            h_batch=dataset[\"hazy_image\"][random_pic:random_pic+1,:,:,:]\n",
    "            t_pred=model(torch.from_numpy(h_batch))\n",
    "            t_pred_npy=t_pred.detach().numpy()[0,:,:]\n",
    "            plt.figure()\n",
    "            _=skio.imshow(t_pred_npy)\n",
    "            plt.show()\n",
    "            print(\"##\"*50)\n",
    "            random_pic=np.random.randint(0,num_samples)\n",
    "    return print_images_callback"
   ]
  },
  {
   "cell_type": "code",
   "execution_count": null,
   "metadata": {
    "ExecuteTime": {
     "end_time": "2020-04-29T06:08:30.079139Z",
     "start_time": "2020-04-29T06:08:30.073996Z"
    }
   },
   "outputs": [],
   "source": [
    "args={\n",
    "    \"num_epochs\":50,\n",
    "    \"checkpoint\":10,\n",
    "    \"grad_sim\":True,\n",
    "    \"scaling_coefficient\":1000,\n",
    "    \"patch_size\":1,\n",
    "    \"batch_size\":100,\n",
    "    \"lr_initial\":0.01,\n",
    "    # for our experiments we use a fixed LR\n",
    "    \"lr_decay_factor\":0.1,\n",
    "    \"lr_decay_interval\":100,\n",
    "    \"momentum\":0.9,\n",
    "    \"l2_weight_decay\":5e-04,\n",
    "    \"run_dir\":\"./saved_models/test\"\n",
    "    }"
   ]
  },
  {
   "cell_type": "code",
   "execution_count": null,
   "metadata": {
    "ExecuteTime": {
     "end_time": "2020-04-29T06:08:30.479512Z",
     "start_time": "2020-04-29T06:08:30.476111Z"
    }
   },
   "outputs": [],
   "source": [
    "dir_path=args[\"run_dir\"]\n",
    "if os.path.exists(dir_path):\n",
    "    assert(os.path.isdir(dir_path))\n",
    "else:\n",
    "    os.makedirs(dir_path)"
   ]
  },
  {
   "cell_type": "code",
   "execution_count": null,
   "metadata": {
    "ExecuteTime": {
     "end_time": "2020-04-29T06:08:31.022419Z",
     "start_time": "2020-04-29T06:08:31.014687Z"
    }
   },
   "outputs": [],
   "source": [
    "logfilename=args[\"run_dir\"]+\"/log.txt\"\n",
    "with open(logfilename,\"a+\") as fi:\n",
    "    fi.write(str(args)+\"\\n\")\n",
    "dataset = h5py.File(\"../data/nyu_hazy_trn.mat\",\"r\")\n",
    "model=CoarseNet()"
   ]
  },
  {
   "cell_type": "code",
   "execution_count": null,
   "metadata": {
    "ExecuteTime": {
     "end_time": "2020-04-29T06:33:33.775414Z",
     "start_time": "2020-04-29T06:08:36.981089Z"
    },
    "scrolled": false
   },
   "outputs": [],
   "source": [
    "training_loop(model=model,dataset=dataset,\n",
    "              training_callback=get_print_images_callback(10,2),**args)"
   ]
  }
 ],
 "metadata": {
  "hide_input": false,
  "kernelspec": {
   "display_name": "Python 3",
   "language": "python",
   "name": "python3"
  },
  "language_info": {
   "codemirror_mode": {
    "name": "ipython",
    "version": 3
   },
   "file_extension": ".py",
   "mimetype": "text/x-python",
   "name": "python",
   "nbconvert_exporter": "python",
   "pygments_lexer": "ipython3",
   "version": "3.6.9"
  },
  "toc": {
   "base_numbering": 1,
   "nav_menu": {},
   "number_sections": true,
   "sideBar": true,
   "skip_h1_title": false,
   "title_cell": "Table of Contents",
   "title_sidebar": "Contents",
   "toc_cell": false,
   "toc_position": {},
   "toc_section_display": true,
   "toc_window_display": false
  }
 },
 "nbformat": 4,
 "nbformat_minor": 2
}
