{
 "cells": [
  {
   "cell_type": "code",
   "execution_count": 1,
   "metadata": {
    "ExecuteTime": {
     "end_time": "2020-04-29T05:24:00.849705Z",
     "start_time": "2020-04-29T05:23:59.891762Z"
    }
   },
   "outputs": [],
   "source": [
    "from training_script import training_loop\n",
    "import h5py\n",
    "from mymodels import CoarseNet\n",
    "import os\n",
    "import torch \n",
    "import skimage.io as skio\n",
    "import numpy as np\n",
    "%matplotlib inline\n",
    "import matplotlib.pyplot as plt"
   ]
  },
  {
   "cell_type": "code",
   "execution_count": 2,
   "metadata": {
    "ExecuteTime": {
     "end_time": "2020-04-29T05:24:00.857280Z",
     "start_time": "2020-04-29T05:24:00.851360Z"
    }
   },
   "outputs": [],
   "source": [
    "def get_print_images_callback(fixed_idx,num_random):\n",
    "    def print_images_callback(model,dataset):\n",
    "        print(\"Performance on random pics\")\n",
    "        print(\"##\"*50)\n",
    "        random_pic=fixed_idx\n",
    "        num_samples=dataset[\"hazy_image\"].shape[0]\n",
    "        for j in range(0,num_random+1):\n",
    "            t_batch=dataset[\"trans_map\"][random_pic,:,:]\n",
    "            h_batch=dataset[\"hazy_image\"][random_pic:random_pic+1,:,:,:]\n",
    "            t_pred=model(torch.from_numpy(h_batch))\n",
    "            t_pred_npy=t_pred.detach().numpy()[0,:,:]\n",
    "            plt.figure()\n",
    "            _=skio.imshow(t_pred_npy)\n",
    "            plt.show()\n",
    "            print(\"##\"*50)\n",
    "            random_pic=np.random.randint(0,num_samples)\n",
    "    return print_images_callback"
   ]
  },
  {
   "cell_type": "code",
   "execution_count": 7,
   "metadata": {
    "ExecuteTime": {
     "end_time": "2020-04-29T06:08:30.079139Z",
     "start_time": "2020-04-29T06:08:30.073996Z"
    }
   },
   "outputs": [],
   "source": [
    "args={\n",
    "    \"num_epochs\":50,\n",
    "    \"checkpoint\":10,\n",
    "    \"grad_sim\":True,\n",
    "    \"scaling_coefficient\":1000,\n",
    "    \"patch_size\":1,\n",
    "    \"batch_size\":100,\n",
    "    \"lr_initial\":0.01,\n",
    "    # for our experiments we use a fixed LR\n",
    "    \"lr_decay_factor\":0.1,\n",
    "    \"lr_decay_interval\":100,\n",
    "    \"momentum\":0.9,\n",
    "    \"l2_weight_decay\":5e-04,\n",
    "    \"run_dir\":\"./saved_models/test\"\n",
    "    }"
   ]
  },
  {
   "cell_type": "code",
   "execution_count": 8,
   "metadata": {
    "ExecuteTime": {
     "end_time": "2020-04-29T06:08:30.479512Z",
     "start_time": "2020-04-29T06:08:30.476111Z"
    }
   },
   "outputs": [],
   "source": [
    "dir_path=args[\"run_dir\"]\n",
    "if os.path.exists(dir_path):\n",
    "    assert(os.path.isdir(dir_path))\n",
    "else:\n",
    "    os.makedirs(dir_path)"
   ]
  },
  {
   "cell_type": "code",
   "execution_count": 9,
   "metadata": {
    "ExecuteTime": {
     "end_time": "2020-04-29T06:08:31.022419Z",
     "start_time": "2020-04-29T06:08:31.014687Z"
    }
   },
   "outputs": [],
   "source": [
    "logfilename=args[\"run_dir\"]+\"/log.txt\"\n",
    "with open(logfilename,\"a+\") as fi:\n",
    "    fi.write(str(args)+\"\\n\")\n",
    "dataset = h5py.File(\"../data/nyu_hazy_trn.mat\",\"r\")\n",
    "model=CoarseNet()"
   ]
  },
  {
   "cell_type": "code",
   "execution_count": 10,
   "metadata": {
    "ExecuteTime": {
     "end_time": "2020-04-29T06:33:33.775414Z",
     "start_time": "2020-04-29T06:08:36.981089Z"
    },
    "scrolled": false
   },
   "outputs": [
    {
     "name": "stdout",
     "output_type": "stream",
     "text": [
      "Epoch # 0\n",
      "aux_loss is in alignment\n",
      "Epoch # 0, Minibatch # 0, Loss :  0.08131213\n",
      "aux_loss is in alignment\n",
      "Epoch # 0, Minibatch # 1, Loss :  0.07509255\n",
      "aux_loss is in alignment\n",
      "Epoch # 0, Minibatch # 2, Loss :  0.07974878\n",
      "aux_loss is in alignment\n",
      "Epoch # 0, Minibatch # 3, Loss :  0.07336261\n",
      "aux_loss is in alignment\n",
      "Epoch # 0, Minibatch # 4, Loss :  0.07147051\n",
      "aux_loss is in alignment\n",
      "Epoch # 0, Minibatch # 5, Loss :  0.07614028\n",
      "aux_loss is in alignment\n",
      "Epoch # 0, Minibatch # 6, Loss :  0.06533657\n",
      "aux_loss is in alignment\n",
      "Epoch # 0, Minibatch # 7, Loss :  0.06050318\n",
      "aux_loss is in alignment\n",
      "Epoch # 0, Minibatch # 8, Loss :  0.06074781\n",
      "aux_loss is in alignment\n",
      "Epoch # 0, Minibatch # 9, Loss :  0.055785302\n",
      "aux_loss is in alignment\n",
      "Epoch # 0, Minibatch # 10, Loss :  0.05060733\n",
      "aux_loss is in alignment\n",
      "Epoch # 0, Minibatch # 11, Loss :  0.049055055\n",
      "aux_loss is in alignment\n",
      "Epoch # 0, Minibatch # 12, Loss :  0.04001973\n",
      "aux_loss is in alignment\n",
      "Epoch # 0, Minibatch # 13, Loss :  0.04038015\n",
      "aux_loss is in alignment\n",
      "Epoch # 0, Minibatch # 14, Loss :  0.03376854\n",
      "aux_loss is in alignment\n",
      "Epoch # 0, Minibatch # 15, Loss :  0.030305931\n",
      "aux_loss is in alignment\n",
      "Epoch # 0, Minibatch # 16, Loss :  0.029267924\n",
      "aux_loss is in alignment\n",
      "Epoch # 0, Minibatch # 17, Loss :  0.022492735\n",
      "aux_loss is in alignment\n",
      "Epoch # 0, Minibatch # 18, Loss :  0.020742163\n",
      "aux_loss is in alignment\n",
      "Epoch # 0, Minibatch # 19, Loss :  0.019359786\n",
      "aux_loss is in alignment\n",
      "Epoch # 0, Minibatch # 20, Loss :  0.019079983\n",
      "aux_loss is in alignment\n",
      "Epoch # 0, Minibatch # 21, Loss :  0.016359696\n",
      "aux_loss is in alignment\n",
      "Epoch # 0, Minibatch # 22, Loss :  0.01805127\n",
      "Epoch # 1 Loss : 0.04734739  Time (mins) : 14.170915035406749  ETC (hrs): 11.572913945582178\n",
      "Performance on random pics\n",
      "####################################################################################################\n"
     ]
    },
    {
     "data": {
      "image/png": "[encoded data removed]",
      "text/plain": [
       "<Figure size 432x288 with 1 Axes>"
      ]
     },
     "metadata": {
      "needs_background": "light"
     },
     "output_type": "display_data"
    },
    {
     "name": "stdout",
     "output_type": "stream",
     "text": [
      "####################################################################################################\n"
     ]
    },
    {
     "data": {
      "image/png": "[encoded data removed]",
      "text/plain": [
       "<Figure size 432x288 with 1 Axes>"
      ]
     },
     "metadata": {
      "needs_background": "light"
     },
     "output_type": "display_data"
    },
    {
     "name": "stdout",
     "output_type": "stream",
     "text": [
      "####################################################################################################\n"
     ]
    },
    {
     "data": {
      "image/png": "[encoded data removed]",
      "text/plain": [
       "<Figure size 432x288 with 1 Axes>"
      ]
     },
     "metadata": {
      "needs_background": "light"
     },
     "output_type": "display_data"
    },
    {
     "name": "stdout",
     "output_type": "stream",
     "text": [
      "####################################################################################################\n",
      "Epoch # 1\n",
      "aux_loss is NOT in alignment\n",
      "Epoch # 1, Minibatch # 0, Loss :  0.019318985\n",
      "aux_loss is NOT in alignment\n",
      "Epoch # 1, Minibatch # 1, Loss :  0.018312858\n",
      "aux_loss is NOT in alignment\n",
      "Epoch # 1, Minibatch # 2, Loss :  0.018535884\n",
      "aux_loss is NOT in alignment\n",
      "Epoch # 1, Minibatch # 3, Loss :  0.020673208\n",
      "aux_loss is NOT in alignment\n",
      "Epoch # 1, Minibatch # 4, Loss :  0.018534834\n",
      "aux_loss is NOT in alignment\n",
      "Epoch # 1, Minibatch # 5, Loss :  0.017103406\n",
      "aux_loss is NOT in alignment\n",
      "Epoch # 1, Minibatch # 6, Loss :  0.018503308\n",
      "aux_loss is NOT in alignment\n",
      "Epoch # 1, Minibatch # 7, Loss :  0.018349964\n",
      "aux_loss is NOT in alignment\n",
      "Epoch # 1, Minibatch # 8, Loss :  0.017283857\n",
      "aux_loss is NOT in alignment\n",
      "Epoch # 1, Minibatch # 9, Loss :  0.021215199\n",
      "aux_loss is NOT in alignment\n",
      "Epoch # 1, Minibatch # 10, Loss :  0.017243184\n",
      "aux_loss is NOT in alignment\n",
      "Epoch # 1, Minibatch # 11, Loss :  0.021325309\n",
      "aux_loss is in alignment\n",
      "Epoch # 1, Minibatch # 12, Loss :  0.018557506\n",
      "aux_loss is NOT in alignment\n",
      "Epoch # 1, Minibatch # 13, Loss :  0.018849894\n",
      "aux_loss is NOT in alignment\n",
      "Epoch # 1, Minibatch # 14, Loss :  0.017569266\n",
      "aux_loss is NOT in alignment\n",
      "Epoch # 1, Minibatch # 15, Loss :  0.018840274\n",
      "aux_loss is NOT in alignment\n",
      "Epoch # 1, Minibatch # 16, Loss :  0.020420998\n"
     ]
    },
    {
     "ename": "KeyboardInterrupt",
     "evalue": "",
     "output_type": "error",
     "traceback": [
      "\u001b[0;31m---------------------------------------------\u001b[0m",
      "\u001b[0;31mKeyboardInterrupt\u001b[0mTraceback (most recent call last)",
      "\u001b[0;32m<ipython-input-10-c1716f40b8c1>\u001b[0m in \u001b[0;36m<module>\u001b[0;34m\u001b[0m\n\u001b[1;32m      1\u001b[0m training_loop(model=model,dataset=dataset,\n\u001b[0;32m----> 2\u001b[0;31m               training_callback=get_print_images_callback(10,2),**args)\n\u001b[0m",
      "\u001b[0;32m~/projects/old/si-dehazing/src/training_script.py\u001b[0m in \u001b[0;36mtraining_loop\u001b[0;34m(model, dataset, num_epochs, checkpoint, run_dir, grad_sim, scaling_coefficient, patch_size, batch_size, lr_initial, lr_decay_factor, lr_decay_interval, momentum, l2_weight_decay, training_callback)\u001b[0m\n\u001b[1;32m     45\u001b[0m                         \u001b[0mpred_batch\u001b[0m\u001b[0;34m=\u001b[0m\u001b[0mmodel\u001b[0m\u001b[0;34m(\u001b[0m\u001b[0mh_batch\u001b[0m\u001b[0;34m)\u001b[0m\u001b[0;34m\u001b[0m\u001b[0;34m\u001b[0m\u001b[0m\n\u001b[1;32m     46\u001b[0m                         \u001b[0;32mif\u001b[0m \u001b[0mgrad_sim\u001b[0m\u001b[0;34m:\u001b[0m\u001b[0;34m\u001b[0m\u001b[0;34m\u001b[0m\u001b[0m\n\u001b[0;32m---> 47\u001b[0;31m                                 \u001b[0maligned\u001b[0m\u001b[0;34m,\u001b[0m\u001b[0mmain_loss\u001b[0m\u001b[0;34m,\u001b[0m\u001b[0maux_loss\u001b[0m\u001b[0;34m=\u001b[0m\u001b[0moptimizer\u001b[0m\u001b[0;34m.\u001b[0m\u001b[0moptimize_loss\u001b[0m\u001b[0;34m(\u001b[0m\u001b[0mpred_batch\u001b[0m\u001b[0;34m,\u001b[0m\u001b[0mt_batch\u001b[0m\u001b[0;34m)\u001b[0m\u001b[0;34m\u001b[0m\u001b[0;34m\u001b[0m\u001b[0m\n\u001b[0m\u001b[1;32m     48\u001b[0m                                 \u001b[0;32mwith\u001b[0m \u001b[0mopen\u001b[0m\u001b[0;34m(\u001b[0m\u001b[0mlogfilename\u001b[0m\u001b[0;34m,\u001b[0m\u001b[0;34m\"a+\"\u001b[0m\u001b[0;34m)\u001b[0m \u001b[0;32mas\u001b[0m \u001b[0mfi\u001b[0m\u001b[0;34m:\u001b[0m\u001b[0;34m\u001b[0m\u001b[0;34m\u001b[0m\u001b[0m\n\u001b[1;32m     49\u001b[0m                                         \u001b[0mfi\u001b[0m\u001b[0;34m.\u001b[0m\u001b[0mwrite\u001b[0m\u001b[0;34m(\u001b[0m\u001b[0;34m\"epoch=\"\u001b[0m\u001b[0;34m+\u001b[0m\u001b[0mstr\u001b[0m\u001b[0;34m(\u001b[0m\u001b[0mepoch\u001b[0m\u001b[0;34m)\u001b[0m\u001b[0;34m+\u001b[0m\u001b[0;34m\",\"\u001b[0m\u001b[0;34m)\u001b[0m\u001b[0;34m\u001b[0m\u001b[0;34m\u001b[0m\u001b[0m\n",
      "\u001b[0;32m~/projects/old/si-dehazing/src/smoothness.py\u001b[0m in \u001b[0;36moptimize_loss\u001b[0;34m(self, z, z_true)\u001b[0m\n\u001b[1;32m     79\u001b[0m                         \u001b[0mgrads\u001b[0m\u001b[0;34m.\u001b[0m\u001b[0mappend\u001b[0m\u001b[0;34m(\u001b[0m\u001b[0;34m[\u001b[0m\u001b[0;34m]\u001b[0m\u001b[0;34m)\u001b[0m\u001b[0;34m\u001b[0m\u001b[0;34m\u001b[0m\u001b[0m\n\u001b[1;32m     80\u001b[0m                         \u001b[0moptimizer\u001b[0m\u001b[0;34m.\u001b[0m\u001b[0mzero_grad\u001b[0m\u001b[0;34m(\u001b[0m\u001b[0;34m)\u001b[0m\u001b[0;34m\u001b[0m\u001b[0;34m\u001b[0m\u001b[0m\n\u001b[0;32m---> 81\u001b[0;31m                         \u001b[0mloss\u001b[0m\u001b[0;34m.\u001b[0m\u001b[0mbackward\u001b[0m\u001b[0;34m(\u001b[0m\u001b[0mretain_graph\u001b[0m\u001b[0;34m=\u001b[0m\u001b[0;32mTrue\u001b[0m\u001b[0;34m)\u001b[0m\u001b[0;34m\u001b[0m\u001b[0;34m\u001b[0m\u001b[0m\n\u001b[0m\u001b[1;32m     82\u001b[0m                         \u001b[0;32mfor\u001b[0m \u001b[0mp\u001b[0m \u001b[0;32min\u001b[0m \u001b[0mmodel\u001b[0m\u001b[0;34m.\u001b[0m\u001b[0mparameters\u001b[0m\u001b[0;34m(\u001b[0m\u001b[0;34m)\u001b[0m\u001b[0;34m:\u001b[0m\u001b[0;34m\u001b[0m\u001b[0;34m\u001b[0m\u001b[0m\n\u001b[1;32m     83\u001b[0m                                 \u001b[0mgrads\u001b[0m\u001b[0;34m[\u001b[0m\u001b[0mi\u001b[0m\u001b[0;34m]\u001b[0m\u001b[0;34m.\u001b[0m\u001b[0mappend\u001b[0m\u001b[0;34m(\u001b[0m\u001b[0mp\u001b[0m\u001b[0;34m.\u001b[0m\u001b[0mgrad\u001b[0m\u001b[0;34m.\u001b[0m\u001b[0mclone\u001b[0m\u001b[0;34m(\u001b[0m\u001b[0;34m)\u001b[0m\u001b[0;34m)\u001b[0m\u001b[0;34m\u001b[0m\u001b[0;34m\u001b[0m\u001b[0m\n",
      "\u001b[0;32m~/Installations/miniconda3/envs/esc/lib/python3.6/site-packages/torch/tensor.py\u001b[0m in \u001b[0;36mbackward\u001b[0;34m(self, gradient, retain_graph, create_graph)\u001b[0m\n\u001b[1;32m    193\u001b[0m                 \u001b[0mproducts\u001b[0m\u001b[0;34m.\u001b[0m \u001b[0mDefaults\u001b[0m \u001b[0mto\u001b[0m\u001b[0;31m \u001b[0m\u001b[0;31m`\u001b[0m\u001b[0;31m`\u001b[0m\u001b[0;32mFalse\u001b[0m\u001b[0;31m`\u001b[0m\u001b[0;31m`\u001b[0m\u001b[0;34m.\u001b[0m\u001b[0;34m\u001b[0m\u001b[0;34m\u001b[0m\u001b[0m\n\u001b[1;32m    194\u001b[0m         \"\"\"\n\u001b[0;32m--> 195\u001b[0;31m         \u001b[0mtorch\u001b[0m\u001b[0;34m.\u001b[0m\u001b[0mautograd\u001b[0m\u001b[0;34m.\u001b[0m\u001b[0mbackward\u001b[0m\u001b[0;34m(\u001b[0m\u001b[0mself\u001b[0m\u001b[0;34m,\u001b[0m \u001b[0mgradient\u001b[0m\u001b[0;34m,\u001b[0m \u001b[0mretain_graph\u001b[0m\u001b[0;34m,\u001b[0m \u001b[0mcreate_graph\u001b[0m\u001b[0;34m)\u001b[0m\u001b[0;34m\u001b[0m\u001b[0;34m\u001b[0m\u001b[0m\n\u001b[0m\u001b[1;32m    196\u001b[0m \u001b[0;34m\u001b[0m\u001b[0m\n\u001b[1;32m    197\u001b[0m     \u001b[0;32mdef\u001b[0m \u001b[0mregister_hook\u001b[0m\u001b[0;34m(\u001b[0m\u001b[0mself\u001b[0m\u001b[0;34m,\u001b[0m \u001b[0mhook\u001b[0m\u001b[0;34m)\u001b[0m\u001b[0;34m:\u001b[0m\u001b[0;34m\u001b[0m\u001b[0;34m\u001b[0m\u001b[0m\n",
      "\u001b[0;32m~/Installations/miniconda3/envs/esc/lib/python3.6/site-packages/torch/autograd/__init__.py\u001b[0m in \u001b[0;36mbackward\u001b[0;34m(tensors, grad_tensors, retain_graph, create_graph, grad_variables)\u001b[0m\n\u001b[1;32m     97\u001b[0m     Variable._execution_engine.run_backward(\n\u001b[1;32m     98\u001b[0m         \u001b[0mtensors\u001b[0m\u001b[0;34m,\u001b[0m \u001b[0mgrad_tensors\u001b[0m\u001b[0;34m,\u001b[0m \u001b[0mretain_graph\u001b[0m\u001b[0;34m,\u001b[0m \u001b[0mcreate_graph\u001b[0m\u001b[0;34m,\u001b[0m\u001b[0;34m\u001b[0m\u001b[0;34m\u001b[0m\u001b[0m\n\u001b[0;32m---> 99\u001b[0;31m         allow_unreachable=True)  # allow_unreachable flag\n\u001b[0m\u001b[1;32m    100\u001b[0m \u001b[0;34m\u001b[0m\u001b[0m\n\u001b[1;32m    101\u001b[0m \u001b[0;34m\u001b[0m\u001b[0m\n",
      "\u001b[0;31mKeyboardInterrupt\u001b[0m: "
     ]
    }
   ],
   "source": [
    "training_loop(model=model,dataset=dataset,\n",
    "              training_callback=get_print_images_callback(10,2),**args)"
   ]
  },
  {
   "cell_type": "code",
   "execution_count": null,
   "metadata": {},
   "outputs": [],
   "source": []
  }
 ],
 "metadata": {
  "hide_input": false,
  "kernelspec": {
   "display_name": "Python 3",
   "language": "python",
   "name": "python3"
  },
  "language_info": {
   "codemirror_mode": {
    "name": "ipython",
    "version": 3
   },
   "file_extension": ".py",
   "mimetype": "text/x-python",
   "name": "python",
   "nbconvert_exporter": "python",
   "pygments_lexer": "ipython3",
   "version": "3.6.9"
  },
  "toc": {
   "base_numbering": 1,
   "nav_menu": {},
   "number_sections": true,
   "sideBar": true,
   "skip_h1_title": false,
   "title_cell": "Table of Contents",
   "title_sidebar": "Contents",
   "toc_cell": false,
   "toc_position": {},
   "toc_section_display": true,
   "toc_window_display": false
  }
 },
 "nbformat": 4,
 "nbformat_minor": 2
}
